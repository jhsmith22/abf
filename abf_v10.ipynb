{
 "cells": [
  {
   "cell_type": "code",
   "execution_count": 172,
   "metadata": {
    "scrolled": true
   },
   "outputs": [],
   "source": [
    "import pandas as pd\n",
    "import numpy as np\n",
    "from scipy.stats import sem, t\n",
    "from scipy import mean\n"
   ]
  },
  {
   "cell_type": "code",
   "execution_count": 177,
   "metadata": {},
   "outputs": [],
   "source": [
    "#FUNCTION #1: Drop unneeded observations per the Paid Family Leave Policy Parameters\n",
    "\n",
    "def abf_data(stateofwork, geography, selfemp, minsize, fed_gov, state_gov, local_gov, wagemax, benefits_taxed, statetax_amt, benefits, paytax_rate):\n",
    "   \n",
    "    #Restriction #1: Exclude those who are not in the formal economy. Drop COW=8 (Working without pay in family business or farm) & COW=9 (Unemployed and last worked 5 years ago or earlier or never)\n",
    "    if ((d['COW'] == 8) | (d['COW'] == 9)).any():\n",
    "\n",
    "        indexNames = d[ (d['COW'] == 8) | (d['COW'] == 9) ].index\n",
    "        dropped_unemp =(len(indexNames))\n",
    "        message_uemp = \"We dropped %s unemployed workers from the dataset\" % (dropped_unemp)\n",
    "        print(message_uemp)\n",
    "        d.drop(indexNames , inplace=True)\n",
    "        \n",
    "    else:\n",
    "        print('Unemp workers are not in the dataset')\n",
    "    \n",
    "    #Restriction #2: Keep only selected State from either the \"State or Work\" or \"State of Residence\" ACS file\n",
    "    if stateofwork==True:  #Use \"ACS State of Work\" File \n",
    "   \n",
    "        if geography !=None: #Need to test if we get a Nationwide estimate if geography=True or None\n",
    "\n",
    "            indexNames = d[d['POWSP'] != geography].index\n",
    "            dropped_geog =(len(indexNames))\n",
    "            message_geog = \"We dropped %s workers from the dataset, who live outside the geographical bounds\" % (dropped_geog)\n",
    "            print(message_geog)\n",
    "            d.drop(indexNames , inplace=True)\n",
    "        else:\n",
    "            print('State is null')\n",
    "\n",
    "        \n",
    "    elif not stateofwork:  #Use \"ACS State of Residence\" File  \n",
    "    \n",
    "        if geography !=None: #Need to test if we get a nationwide estimate if geography=True or None\n",
    "                indexNames = d[d['ST'] != geography].index \n",
    "                dropped_geog =(len(indexNames))\n",
    "                message_geog = \"We dropped %s workers from the dataset, who live outside the geographical bounds\" % (dropped_geog)\n",
    "                print(message_geog)\n",
    "                d.drop(indexNames , inplace=True)\n",
    "        else:\n",
    "            print('State is null')\n",
    "\n",
    "    #Restriction #3: Exclude employers smaller than the minimum employer size parameter\n",
    "    if minsize !=None: #None = Null Value\n",
    "\n",
    "        emp_size_max_id = d['emp_size'].idxmax()\n",
    "        emp_size_max_val=(d.loc[[emp_size_max_id], ['emp_size']]).values[0]\n",
    "        \n",
    "        if (emp_size_max_val > minsize):\n",
    "            indexNames = d[d['emp_size'] < minsize].index #Need to confirm that the emp_size variable constructed on the microsim side wouldn't have any blanks\n",
    "            type(indexNames)\n",
    "            dropped_empsize =(len(indexNames))\n",
    "            message_empsize = \"We dropped %s workers from the dataset, at firms smaller than minsize\" % (dropped_empsize)\n",
    "            print(message_empsize)\n",
    "\n",
    "            d.drop(indexNames , inplace=True)\n",
    "        \n",
    "        else:\n",
    "            print('All employers are larger than the min size')\n",
    "    else:\n",
    "        print('There is no Minimum Emp Size restriction')\n",
    "\n",
    "    #Restriction #4: Exclude those who are Self-Employed (drop self-employed: COW=6 & COW=7)\n",
    "    if selfemp!=None: \n",
    "        \n",
    "        if not selfemp: \n",
    "        \n",
    "            if ((d['COW'] == 6) | (d['COW'] == 7)).any():\n",
    "                indexNames = d[ (d['COW'] == 6) | (d['COW'] == 7) ].index\n",
    "                dropped_selfemp =(len(indexNames))\n",
    "                message_selfemp = \"We dropped %s self-employed workers from the dataset\" % (dropped_selfemp)\n",
    "                print(message_selfemp)\n",
    "                d.drop(indexNames , inplace=True)\n",
    "\n",
    "            else:\n",
    "                print('Self Emp workers are not in the dataset')\n",
    "        else:\n",
    "            print('Self-employed workers recieve PFML')\n",
    "    \n",
    "    #Restriction #5: Exclude federal gov workers, if policy applies (drop COW=5)\n",
    "    if fed_gov!=None: #TRUE (Constraint is applied)\n",
    "        \n",
    "        if not fed_gov:\n",
    "        \n",
    "            if ((d['COW'] == 5)).any():\n",
    "                indexNames = d[ (d['COW'] == 5)].index\n",
    "                dropped_fed =(len(indexNames))\n",
    "                message_fed = \"We dropped %s federal employees from the dataset\" % (dropped_fed)\n",
    "                print(message_fed)\n",
    "                d.drop(indexNames , inplace=True)\n",
    "            else:\n",
    "                print('Fed workers are not in the dataset')\n",
    "        else:\n",
    "            print('Fed employees recieve PFML')\n",
    "\n",
    "    #Restriction #6: Exclude state govs workers, if policy applies (drop COW=4)\n",
    "    if state_gov!=None: #TRUE (Constraint is applied)\n",
    "       \n",
    "        if not state_gov:\n",
    "        \n",
    "            if ((d['COW'] == 4)).any():\n",
    "                indexNames = d[ (d['COW'] == 4)].index\n",
    "                dropped_state =(len(indexNames))\n",
    "                message_state = \"We dropped %s state employees from the dataset\" % (dropped_state)\n",
    "                print (message_state)\n",
    "\n",
    "                d.drop(indexNames , inplace=True)\n",
    "            else:\n",
    "                print('State workers are not in the dataset')\n",
    "        else:\n",
    "            print('State employees recieve PFML')\n",
    "    \n",
    "    #Restriction #7: Drop local gov workers, if policy applies (drop COW=3)\n",
    "    if local_gov!=None: #TRUE (Constraint is applied)\n",
    "\n",
    "        if not local_gov:\n",
    "        \n",
    "            if ((d['COW'] == 3)).any():\n",
    "                indexNames = d[ (d['COW'] == 3)].index\n",
    "                dropped_local =(len(indexNames))\n",
    "                message_local = \"We dropped %s local employees from the dataset\" % (dropped_local) \n",
    "                print(message_local)\n",
    "                d.drop(indexNames , inplace=True)\n",
    "            else:    \n",
    "                print('Local workers are not in the dataset')\n",
    "        else:\n",
    "            print('Local employees recieve PFML')\n",
    "        \n",
    "    #Apply Taxable Wage Max\n",
    "    if wagemax!=None: #TRUE (Constraint is applied)\n",
    "        d['income_final'] = np.where((d['income']>wagemax), wagemax, d['income'])                \n",
    "        indexNames = d[ d['income']>wagemax].index\n",
    "        censor=((len(indexNames)))\n",
    "        message_censor = \"We censored %s observations to the wage max\" % (censor)\n",
    "        print (message_censor)\n",
    "\n",
    "#######################################################################################################\n",
    "#OUTPUT DATASET\n",
    "          \n",
    "    #Append needed columns from data chunks into an aggregated dataframe\n",
    "    policy2=['income_final', 'income_w', 'ptax_rev_w', 'ptax_rev_final', 'PWGTP', 'class', 'ST', 'POWSP', 'age_cat', \"GENDER_CAT\"]\n",
    "    acs2=policy2+reps\n",
    "    \n",
    "    income_select= d.loc[:,acs2]\n",
    "    global income_agg\n",
    "    income_agg = pd.concat([income_agg,income_select])\n",
    "    \n",
    "    return\n"
   ]
  },
  {
   "cell_type": "code",
   "execution_count": 178,
   "metadata": {},
   "outputs": [],
   "source": [
    "#FUNCTION #2: Conduct Final Calculations on the slimmer ABF Output dataset\n",
    "\n",
    "def abf_calcs(stateofwork, geography, selfemp, minsize, fed_gov, state_gov, local_gov, wagemax, benefits_taxed, statetax_amt, benefits, paytax_rate):\n",
    "\n",
    "    d=income_agg\n",
    "\n",
    "    #########Step 1 - Calculate Point Estimates\n",
    "    \n",
    "    #Income\n",
    "    #Intermediate output: unweighted income base (full geographic area)\n",
    "    Total_income = d['income_final'].sum()\n",
    "\n",
    "    #Total Weighted Income Base (full geographic area)\n",
    "    d['income_w'] = d['income_final']*d['PWGTP']\n",
    "    Total_income_w=d['income_w'].sum()\n",
    "    print('Output: Weighted Income Base for Full Geographic Area:')\n",
    "    print(Total_income_w)\n",
    "\n",
    "    #Tax Revenue\n",
    "    #Unweighted tax revenue collected (full geographic area)\n",
    "    d['ptax_rev_final'] = d['income_final']*paytax_rate  \n",
    "   \n",
    "    #Total Weighted Tax Revenue (full geographic area)\n",
    "    d['ptax_rev_w']=d['income_w']*paytax_rate\n",
    "    Total_ptax_rev_w = paytax_rate*Total_income_w\n",
    "    print('Output: Weighted Tax Revenue for Full Geographic Area:')\n",
    "    print(Total_ptax_rev_w)\n",
    "\n",
    "    message = \"The weighted estimated tax revenue is %s based on a payroll tax rate of %s and a income base of %s \" % (Total_ptax_rev_w, paytax_rate, Total_income_w)\n",
    "    print(message)\n",
    "    \n",
    "    #State Tax Revenue Recouped from Taxed Benefits\n",
    "    if benefits_taxed == True:\n",
    "        recoup_tax_rev= statetax_amt* benefits\n",
    "        print('Output: \"State Tax Revenue Recouped from Taxed Benefits:')\n",
    "        print(recoup_tax_rev)\n",
    "        message = \"With a state tax rate of %s and a benefit outlay of %s, the estimated state tax revenue is %s\" % (statetax_amt, benefits, recoup_tax_rev)\n",
    "        print(message)\n",
    "    \n",
    "#     #########Step 2 - Calculate Standard Errors with 80 Replicate Weights\n",
    "    \n",
    "    #Income\n",
    "    income_r=[]\n",
    "    for i in reps:\n",
    "        income_r.append(((d['income_final']*d[i]).sum()))\n",
    "    \n",
    "    #print('80 Replicate Income:')\n",
    "    #print(income_r)\n",
    "    \n",
    "    income_delta=[]\n",
    "    for i in income_r:\n",
    "        income_delta.append((i - Total_income_w)**2)\n",
    "    \n",
    "    income_se=((sum(income_delta))*(4/80))**.5\n",
    "\n",
    "    \n",
    "#     #Tax Revenue    \n",
    "    tax_r=[]\n",
    "    for i in reps:\n",
    "        tax_r.append(((d['ptax_rev_final']*d[i]).sum()))\n",
    "    \n",
    "    #print('80 Replicate Tax Revenue:')\n",
    "    #print(tax_r)\n",
    "    \n",
    "    tax_delta=[]\n",
    "    for i in tax_r:\n",
    "        tax_delta.append((i -Total_ptax_rev_w)**2)\n",
    "    \n",
    "    tax_se=((sum(tax_delta))*(4/80))**.5\n",
    "\n",
    "    \n",
    "#     ###########Step 3: Calculate Confidence Intervals\n",
    "    \n",
    "    #Income\n",
    "    Total_Income_w_UCI = Total_income_w + 1.96*(income_se)\n",
    "    print('Total Income Upper CI:')\n",
    "    print(Total_Income_w_UCI)\n",
    "    Total_Income_w_LCI = Total_income_w - 1.96*(income_se)\n",
    "    print('Total Income Low CI:')\n",
    "    print(Total_Income_w_LCI)\n",
    "    \n",
    "#     #Tax Revenue\n",
    "    Total_ptax_w_UCI = Total_ptax_rev_w + 1.96*(tax_se)\n",
    "    print('Total Income Upper CI:')\n",
    "    print(Total_ptax_w_UCI)\n",
    "    Total_ptax_w_LCI = Total_ptax_rev_w - 1.96*(tax_se)\n",
    "    print('Total Income Low CI:')\n",
    "    print(Total_ptax_w_LCI)\n",
    "    \n",
    "    \n",
    "    #Return Dictionary with Final Output Values\n",
    "    abf_output={'Total_income_w': Total_income_w, 'Total_income': Total_income,\n",
    "                'income_se': income_se, 'Total_Income_w_UCI': Total_Income_w_UCI,'Total_Income_w_LCI': Total_Income_w_LCI, \n",
    "                'Total_ptax_rev_w': Total_ptax_rev_w,\n",
    "                'tax_se': tax_se, 'Total_ptax_w_UCI': Total_ptax_w_UCI,'Total_ptax_w_LCI': Total_ptax_w_LCI,\n",
    "                'recoup_tax_rev': recoup_tax_rev}     \n",
    "    print(abf_output)\n",
    "    \n",
    "    pd.set_option('display.float_format', lambda x: '%.2f' % x) \n",
    "    print(pd.pivot_table(d,index=[\"class\"],values=[\"income_w\", \"ptax_rev_w\"],aggfunc=[np.sum]))\n",
    "    print(pd.pivot_table(d,index=[\"age_cat\"],values=[\"income_w\", \"ptax_rev_w\"],aggfunc=[np.sum]))\n",
    "    print(pd.pivot_table(d,index=[\"GENDER_CAT\"],values=[\"income_w\", \"ptax_rev_w\"],aggfunc=[np.sum]))\n",
    "    \n",
    "    \n",
    "    return abf_output\n"
   ]
  },
  {
   "cell_type": "code",
   "execution_count": 181,
   "metadata": {},
   "outputs": [
    {
     "name": "stderr",
     "output_type": "stream",
     "text": [
      "C:\\Users\\jsmith\\AppData\\Local\\Continuum\\anaconda3\\lib\\site-packages\\pandas\\core\\indexing.py:1472: FutureWarning: \n",
      "Passing list-likes to .loc or [] with any missing label will raise\n",
      "KeyError in the future, you can use .reindex() as an alternative.\n",
      "\n",
      "See the documentation here:\n",
      "https://pandas.pydata.org/pandas-docs/stable/indexing.html#deprecate-loc-reindex-listlike\n",
      "  return self._getitem_tuple(key)\n"
     ]
    },
    {
     "name": "stdout",
     "output_type": "stream",
     "text": [
      "We dropped 475 unemployed workers from the dataset\n",
      "We dropped 35972 workers from the dataset, who live outside the geographical bounds\n",
      "There is no Minimum Emp Size restriction\n",
      "We dropped 2142 self-employed workers from the dataset\n",
      "We dropped 872 federal employees from the dataset\n",
      "We dropped 1055 state employees from the dataset\n",
      "We dropped 1522 local employees from the dataset\n",
      "We censored 3963 observations to the wage max\n",
      "Output: Weighted Income Base for Full Geographic Area:\n",
      "13702949371.0\n",
      "Output: Weighted Tax Revenue for Full Geographic Area:\n",
      "164435392.452\n",
      "The weighted estimated tax revenue is 164435392.452 based on a payroll tax rate of 0.012 and a income base of 13702949371.0 \n",
      "Output: \"State Tax Revenue Recouped from Taxed Benefits:\n",
      "26250000.0\n",
      "With a state tax rate of 0.15 and a benefit outlay of 175000000, the estimated state tax revenue is 26250000.0\n",
      "Total Income Upper CI:\n",
      "13920775060.804846\n",
      "Total Income Low CI:\n",
      "13485123681.195154\n",
      "Total Income Upper CI:\n",
      "167049300.72965816\n",
      "Total Income Low CI:\n",
      "161821484.17434183\n",
      "{'Total_income_w': 13702949371.0, 'Total_income': 675118102.0, 'income_se': 111135556.02288038, 'Total_Income_w_UCI': 13920775060.804846, 'Total_Income_w_LCI': 13485123681.195154, 'Total_ptax_rev_w': 164435392.452, 'tax_se': 1333626.6722745674, 'Total_ptax_w_UCI': 167049300.72965816, 'Total_ptax_w_LCI': 161821484.17434183, 'recoup_tax_rev': 26250000.0}\n",
      "                   sum             \n",
      "              income_w   ptax_rev_w\n",
      "class                              \n",
      "Private 13702949371.00 164435392.45\n",
      "                     sum            \n",
      "                income_w  ptax_rev_w\n",
      "age_cat                             \n",
      "[60 - 70)    96038188.00  1152458.26\n",
      "[50 - 60)  1804672970.00 21656075.64\n",
      "[20 - 30)  2947885813.00 35374629.76\n",
      "[40 - 50)  2960478790.00 35525745.48\n",
      "[70 - 80)  3599475490.00 43193705.88\n",
      "[30 - 40)  1925828460.00 23109941.52\n",
      "[80 - 90)   317523160.00  3810277.92\n",
      "[10 - 20)    43551100.00   522613.20\n",
      "[90 - 100)    7495400.00    89944.80\n",
      "                     sum            \n",
      "                income_w  ptax_rev_w\n",
      "GENDER_CAT                          \n",
      "female     6374783970.00 76497407.64\n",
      "male       7328165401.00 87937984.81\n"
     ]
    }
   ],
   "source": [
    "#State of Residence\n",
    "#df=pd.read_csv(\"ss16pnj.csv\")\n",
    "#df=pd.read_csv(\"ss16pri.csv\")\n",
    "#df=pd.read_csv(\"ss16pca.csv\")\n",
    "\n",
    "#State of Work\n",
    "#df=pd.read_csv(\"xNJ_2012-2016p.csv\")\n",
    "#df=pd.read_csv(\"xRI_2012-2016p.csv\")\n",
    "#df=pd.read_csv(\"xCA_2012-2016p.csv\")\n",
    "\n",
    "#Load in Raw Data File\n",
    "df2 = pd.DataFrame()\n",
    "income_agg=pd.DataFrame()\n",
    "\n",
    "#for chunk in pd.read_csv('xNJ_2012-2016p.csv', chunksize = 100000, low_memory=False):\n",
    "for chunk in pd.read_csv('xRI_2012-2016p.csv', chunksize = 100000, low_memory=False):\n",
    "#for chunk in pd.read_csv('xCA_2012-2016p.csv', chunksize = 100000, low_memory=False):\n",
    "    df=pd.concat([df2,chunk])\n",
    "\n",
    "#Select variables for analysis\n",
    "    reps =['PWGTP'+str(i) for i in range(1,81)] \n",
    "    policy=[\"id\",\"ST\",\"POWSP\", \"emp_size\", \"COW\", \"ESR\", \"PERNP\", \"PWGTP\", \"WAGEP\", \"SEMP\", \"class\", \"AGEP\", \"SEX\"]\n",
    "    acs=policy+reps\n",
    "    d= df.loc[:,acs]\n",
    "    d['income']=d['PERNP']\n",
    "\n",
    "#Create Class variable to aggregate the COW variable for display purposes\n",
    "    d['class'] =d['COW']\n",
    "    cleanup = {\"class\": {1: \"Private\", 2: \"Private\", 3:\"Local\", 4:\"State\", 5:\"Federal\", 6:\"Self-Employed\", 7:\"Self-Employed\", 8:\"Other\", 9:\"Other\"}}\n",
    "    d.replace(cleanup, inplace=True)\n",
    "\n",
    "#Create Age Categories for display purposes (need to find out variable specification on the microsim side)\n",
    "    age_ranges = [\"[{0} - {1})\".format(AGEP, AGEP + 10) for AGEP in range(0, 100, 10)]\n",
    "    age_ranges\n",
    "    count_unique_age_ranges = len(age_ranges)\n",
    "    count_unique_age_ranges\n",
    "    d['age_cat'] = pd.cut(x=d['AGEP'], bins=count_unique_age_ranges, labels=age_ranges)\n",
    "\n",
    "# Create Gender Categories for display pruposes\n",
    "    d['GENDER_CAT']   = np.where(d['SEX']==1,'male','female')\n",
    "    d['GENDER_CAT'] = np.where(np.isnan(d['SEX']), np.nan, d['GENDER_CAT']) #code missing responses as missing\n",
    "\n",
    "    ######################\n",
    "    #FUNCTION #1= abf_data: Drop unneeded observations per the Paid Family Leave Policy Parameters\n",
    "    \n",
    "    #CA Policy Parmeters\n",
    "    #abf_data(stateofwork=True, geography=6, selfemp=False, minsize=None, fed_gov=False, state_gov=False, local_gov=False, wagemax=106742, benefits_taxed=True, statetax_amt=.15, benefits=5000000, paytax_rate=0.009)\n",
    "\n",
    "    #New Jersey Policy Parmeters\n",
    "    #abf_data(stateofwork=True, geography=34, selfemp=False, minsize=None, fed_gov=False, state_gov=True, local_gov=True, wagemax=32600, benefits_taxed=True, benefits_taxed=.15, benefits=5000000, paytax_rate=0.0008)\n",
    "    #abf_data(stateofwork=True, geography=34, selfemp=False, minsize=None, fed_gov=False, state_gov=False, local_gov=False, wagemax=32600, benefits_taxed=True, statetax_amt=.15, benefits=5000000, paytax_rate=0.007)\n",
    "\n",
    "    #Rhode Island Policy Parmeters \n",
    "    abf_data(stateofwork=True, geography=44, selfemp=False, minsize=None, fed_gov=False, state_gov=False, local_gov=False, wagemax=66300, benefits_taxed=True, statetax_amt=.15, benefits=175000000, paytax_rate=0.012)\n",
    "\n",
    "#FUNCTION #2=abf_output: Conduct Final Calculations on the slimmer ABF Output dataset\n",
    "#CA Policy Parmeters\n",
    "#abf_output=abf_calcs(stateofwork=True, geography=6, selfemp=False, minsize=None, fed_gov=False, state_gov=False, local_gov=False, wagemax=106742, benefits_taxed=True, statetax_amt=.15, benefits=5000000, paytax_rate=0.009)\n",
    "\n",
    "#NJ Policy Parmeters\n",
    "#abf_output=abf_calcs(stateofwork=True, geography=34, selfemp=False, minsize=None, fed_gov=False, state_gov=True, local_gov=True, wagemax=32600, benefits_taxed=True, benefits_taxed=.15, benefits=5000000, paytax_rate=0.0008)\n",
    "#abf_output=abf_calcs(stateofwork=True, geography=34, selfemp=False, minsize=None, fed_gov=False, state_gov=False, local_gov=False, wagemax=32600, benefits_taxed=True, statetax_amt=.15, benefits=5000000, paytax_rate=0.007)\n",
    "\n",
    "#Rhode Island Policy Parmeters\n",
    "abf_output=abf_calcs(stateofwork=True, geography=44, selfemp=False, minsize=None, fed_gov=False, state_gov=False, local_gov=False, wagemax=66300, benefits_taxed=True, statetax_amt=.15, benefits=175000000, paytax_rate=0.012)\n"
   ]
  },
  {
   "cell_type": "code",
   "execution_count": 176,
   "metadata": {},
   "outputs": [
    {
     "name": "stdout",
     "output_type": "stream",
     "text": [
      "\f",
      "\n"
     ]
    }
   ],
   "source": []
  },
  {
   "cell_type": "code",
   "execution_count": null,
   "metadata": {},
   "outputs": [],
   "source": [
    "\n"
   ]
  },
  {
   "cell_type": "code",
   "execution_count": 169,
   "metadata": {},
   "outputs": [
    {
     "name": "stdout",
     "output_type": "stream",
     "text": [
      "\f",
      "\n"
     ]
    }
   ],
   "source": []
  },
  {
   "cell_type": "code",
   "execution_count": 168,
   "metadata": {},
   "outputs": [
    {
     "name": "stdout",
     "output_type": "stream",
     "text": [
      "\f",
      "\n"
     ]
    }
   ],
   "source": []
  },
  {
   "cell_type": "code",
   "execution_count": null,
   "metadata": {},
   "outputs": [],
   "source": []
  },
  {
   "cell_type": "code",
   "execution_count": null,
   "metadata": {},
   "outputs": [],
   "source": []
  },
  {
   "cell_type": "code",
   "execution_count": 79,
   "metadata": {},
   "outputs": [],
   "source": []
  },
  {
   "cell_type": "code",
   "execution_count": 80,
   "metadata": {},
   "outputs": [
    {
     "name": "stdout",
     "output_type": "stream",
     "text": [
      "\f",
      "\n"
     ]
    }
   ],
   "source": []
  },
  {
   "cell_type": "code",
   "execution_count": null,
   "metadata": {},
   "outputs": [],
   "source": []
  },
  {
   "cell_type": "code",
   "execution_count": 82,
   "metadata": {},
   "outputs": [
    {
     "name": "stdout",
     "output_type": "stream",
     "text": [
      "\f",
      "\n"
     ]
    }
   ],
   "source": []
  },
  {
   "cell_type": "code",
   "execution_count": 83,
   "metadata": {},
   "outputs": [
    {
     "name": "stdout",
     "output_type": "stream",
     "text": [
      "\f",
      "\n"
     ]
    }
   ],
   "source": []
  },
  {
   "cell_type": "code",
   "execution_count": null,
   "metadata": {},
   "outputs": [],
   "source": []
  },
  {
   "cell_type": "code",
   "execution_count": null,
   "metadata": {},
   "outputs": [],
   "source": []
  },
  {
   "cell_type": "code",
   "execution_count": 84,
   "metadata": {},
   "outputs": [
    {
     "name": "stdout",
     "output_type": "stream",
     "text": [
      "\f",
      "\n"
     ]
    }
   ],
   "source": []
  },
  {
   "cell_type": "code",
   "execution_count": 85,
   "metadata": {},
   "outputs": [
    {
     "name": "stdout",
     "output_type": "stream",
     "text": [
      "\f",
      "\n"
     ]
    }
   ],
   "source": []
  },
  {
   "cell_type": "code",
   "execution_count": 117,
   "metadata": {},
   "outputs": [
    {
     "name": "stdout",
     "output_type": "stream",
     "text": [
      "(74160, 283)\n"
     ]
    }
   ],
   "source": []
  },
  {
   "cell_type": "code",
   "execution_count": 87,
   "metadata": {},
   "outputs": [
    {
     "name": "stdout",
     "output_type": "stream",
     "text": [
      "\f",
      "\n"
     ]
    }
   ],
   "source": []
  },
  {
   "cell_type": "code",
   "execution_count": 88,
   "metadata": {},
   "outputs": [
    {
     "name": "stdout",
     "output_type": "stream",
     "text": [
      "\f",
      "\n"
     ]
    }
   ],
   "source": []
  },
  {
   "cell_type": "code",
   "execution_count": null,
   "metadata": {},
   "outputs": [],
   "source": []
  },
  {
   "cell_type": "code",
   "execution_count": null,
   "metadata": {},
   "outputs": [],
   "source": []
  },
  {
   "cell_type": "code",
   "execution_count": null,
   "metadata": {},
   "outputs": [],
   "source": []
  }
 ],
 "metadata": {
  "kernelspec": {
   "display_name": "Python 3",
   "language": "python",
   "name": "python3"
  },
  "language_info": {
   "codemirror_mode": {
    "name": "ipython",
    "version": 3
   },
   "file_extension": ".py",
   "mimetype": "text/x-python",
   "name": "python",
   "nbconvert_exporter": "python",
   "pygments_lexer": "ipython3",
   "version": "3.6.5"
  }
 },
 "nbformat": 4,
 "nbformat_minor": 2
}
